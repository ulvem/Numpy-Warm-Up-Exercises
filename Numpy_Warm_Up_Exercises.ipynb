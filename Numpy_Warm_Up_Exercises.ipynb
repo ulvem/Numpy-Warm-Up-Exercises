{
  "nbformat": 4,
  "nbformat_minor": 0,
  "metadata": {
    "colab": {
      "provenance": [],
      "authorship_tag": "ABX9TyMGdFrfgmCbPGlCtaKD01M9",
      "include_colab_link": true
    },
    "kernelspec": {
      "name": "python3",
      "display_name": "Python 3"
    },
    "language_info": {
      "name": "python"
    }
  },
  "cells": [
    {
      "cell_type": "markdown",
      "metadata": {
        "id": "view-in-github",
        "colab_type": "text"
      },
      "source": [
        "<a href=\"https://colab.research.google.com/github/ulvem/Numpy-Warm-Up-Exercises/blob/main/Numpy_Warm_Up_Exercises.ipynb\" target=\"_parent\"><img src=\"https://colab.research.google.com/assets/colab-badge.svg\" alt=\"Open In Colab\"/></a>"
      ]
    },
    {
      "cell_type": "markdown",
      "source": [
        "OPTIONAL TASK:\n",
        "Array Creation\n",
        "Warm-Up Exercises\n",
        "Before you dive into the final project, we've prepared a series of basic tasks designed to serve as a warm-up, helping you to flex your NumPy muscles and get into the right mindset for the comprehensive challenge ahead.\n",
        "\n",
        "1. Create a 3-D array with ones on the diagonal and zeros elsewhere.\n",
        "\n",
        "2. Create an array of 3x2 numbers, filled with ones.\n",
        "\n",
        "3. Create a matrix of shape 2x5, filled with 6s.\n",
        "\n",
        "4. Create an array of 5, 13, 21, 29, ..., 101.\n",
        "\n",
        "5. Create a 1-D array of 20 evenly spaced elements between 7. and 12., inclusive.\n",
        "\n",
        "6. Create a 2-D array (4x4) whose diagonal equals [1, 2, 3, 4] and with 0's elsewhere.\n",
        "\n",
        "7. Let x be an ndarray with the following dimensions [10, 10, 3] and let all its elements equal one. Next, reshape x so that it creates matrix (2Darray) and the size of the second dimension equals 150.\n",
        "\n",
        "8. Let x be array [[1, 2, 3], [4, 5, 6]]. Convert it to [1 4 2 5 3 6].\n",
        "\n",
        "9. Let X = np.arange(1, 5).reshape((2, 2)) and calculate the determinant of X.\n",
        "\n",
        "10. Return the sum along the diagonal of A = np.linspace(2, 16, 16).reshape(4, 4).\n",
        "\n",
        "11. Find the inverse of np.array([[1., 2.], [3., 4.]])\n",
        "\n",
        "12. For the following vectors,\n",
        "\n",
        "x = np.array([4, 5, 6, 13])\n",
        "y = np.array([5, 0, 6, 11])\n",
        "check which elements of x are greater than those of y."
      ],
      "metadata": {
        "id": "w1Rhvd_gX9v4"
      }
    },
    {
      "cell_type": "code",
      "source": [
        "import numpy as np\n",
        "\n",
        "#1 Create a 3-D array with ones on the diagonal and zeros elsewhere\n",
        "array_3d = np.eye(3, 3, 3)\n",
        "print(\"3-D array with ones on the diagonal and zeros elsewhere:\\n\", array_3d)\n"
      ],
      "metadata": {
        "colab": {
          "base_uri": "https://localhost:8080/"
        },
        "id": "F0ZzSLZiWytz",
        "outputId": "e7bd830f-6a63-4af2-910b-52da64408c90"
      },
      "execution_count": 21,
      "outputs": [
        {
          "output_type": "stream",
          "name": "stdout",
          "text": [
            "3-D array with ones on the diagonal and zeros elsewhere:\n",
            " [[0. 0. 0.]\n",
            " [0. 0. 0.]\n",
            " [0. 0. 0.]]\n"
          ]
        }
      ]
    },
    {
      "cell_type": "code",
      "source": [
        "#2 Create an array of 3x2 numbers, filled with ones\n",
        "array_3x2 = np.ones((3, 2))\n",
        "print(\"Array of 3x2 numbers, filled with ones:\\n\", array_3x2)"
      ],
      "metadata": {
        "colab": {
          "base_uri": "https://localhost:8080/"
        },
        "id": "AFc66dfnYUIo",
        "outputId": "4a5c2cc6-88a5-4b3a-8af9-30b42da619d6"
      },
      "execution_count": 22,
      "outputs": [
        {
          "output_type": "stream",
          "name": "stdout",
          "text": [
            "Array of 3x2 numbers, filled with ones:\n",
            " [[1. 1.]\n",
            " [1. 1.]\n",
            " [1. 1.]]\n"
          ]
        }
      ]
    },
    {
      "cell_type": "code",
      "source": [
        "#3 Create a matrix of shape 2x5, filled with 6s\n",
        "matrix_2x5 = np.full((2, 5), 6)\n",
        "print(\"Matrix of shape 2x5, filled with 6s:\\n\", matrix_2x5)"
      ],
      "metadata": {
        "colab": {
          "base_uri": "https://localhost:8080/"
        },
        "id": "n582VdFQYWL_",
        "outputId": "2015c101-fd63-4d1a-a02a-7a06312923ff"
      },
      "execution_count": 23,
      "outputs": [
        {
          "output_type": "stream",
          "name": "stdout",
          "text": [
            "Matrix of shape 2x5, filled with 6s:\n",
            " [[6 6 6 6 6]\n",
            " [6 6 6 6 6]]\n"
          ]
        }
      ]
    },
    {
      "cell_type": "code",
      "source": [
        "#4 Create an array of 5, 13, 21, 29, ..., 101\n",
        "array_sequence = np.arange(5, 102, 8)\n",
        "print(\"Array of 5, 13, 21, 29, ..., 101:\\n\", array_sequence)"
      ],
      "metadata": {
        "colab": {
          "base_uri": "https://localhost:8080/"
        },
        "id": "cAclebvEYfW5",
        "outputId": "1d3d0385-aecf-4bd2-ce10-a7d89c935262"
      },
      "execution_count": 24,
      "outputs": [
        {
          "output_type": "stream",
          "name": "stdout",
          "text": [
            "Array of 5, 13, 21, 29, ..., 101:\n",
            " [  5  13  21  29  37  45  53  61  69  77  85  93 101]\n"
          ]
        }
      ]
    },
    {
      "cell_type": "code",
      "source": [
        "#5 Create a 1-D array of 20 evenly spaced elements between 7. and 12., inclusive\n",
        "array_evenly_spaced = np.linspace(7, 12, 20)\n",
        "print(\"1-D array of 20 evenly spaced elements between 7. and 12., inclusive:\\n\", array_evenly_spaced)"
      ],
      "metadata": {
        "colab": {
          "base_uri": "https://localhost:8080/"
        },
        "id": "N7OhB-8eYpJS",
        "outputId": "a1251809-b592-4341-c719-834ce193657d"
      },
      "execution_count": 25,
      "outputs": [
        {
          "output_type": "stream",
          "name": "stdout",
          "text": [
            "1-D array of 20 evenly spaced elements between 7. and 12., inclusive:\n",
            " [ 7.          7.26315789  7.52631579  7.78947368  8.05263158  8.31578947\n",
            "  8.57894737  8.84210526  9.10526316  9.36842105  9.63157895  9.89473684\n",
            " 10.15789474 10.42105263 10.68421053 10.94736842 11.21052632 11.47368421\n",
            " 11.73684211 12.        ]\n"
          ]
        }
      ]
    },
    {
      "cell_type": "code",
      "source": [
        "#6 Create a 2-D array (4x4) whose diagonal equals [1, 2, 3, 4] and with 0's elsewhere\n",
        "array_2d_diagonal = np.diag([1, 2, 3, 4])\n",
        "print(\"2-D array (4x4) with diagonal [1, 2, 3, 4] and 0's elsewhere:\\n\", array_2d_diagonal)\n"
      ],
      "metadata": {
        "colab": {
          "base_uri": "https://localhost:8080/"
        },
        "id": "Rc6y9VFhYwob",
        "outputId": "341ed9c6-6b67-453a-85a3-57e3ffe7e557"
      },
      "execution_count": 26,
      "outputs": [
        {
          "output_type": "stream",
          "name": "stdout",
          "text": [
            "2-D array (4x4) with diagonal [1, 2, 3, 4] and 0's elsewhere:\n",
            " [[1 0 0 0]\n",
            " [0 2 0 0]\n",
            " [0 0 3 0]\n",
            " [0 0 0 4]]\n"
          ]
        }
      ]
    },
    {
      "cell_type": "code",
      "source": [
        "#6 Let x be an ndarray with dimensions [10, 10, 3] and all elements equal to one\n",
        "x = np.ones((10, 10, 3))\n",
        "# Reshape x to a 2-D array with the second dimension equal to 150\n",
        "reshaped_x = x.reshape(-1, 150)\n",
        "print(\"Reshaped array with second dimension equal to 150:\\n\", reshaped_x)"
      ],
      "metadata": {
        "colab": {
          "base_uri": "https://localhost:8080/"
        },
        "id": "o7evjvzsY4s8",
        "outputId": "7adae020-d488-4890-831a-5566f5ed92a1"
      },
      "execution_count": 27,
      "outputs": [
        {
          "output_type": "stream",
          "name": "stdout",
          "text": [
            "Reshaped array with second dimension equal to 150:\n",
            " [[1. 1. 1. 1. 1. 1. 1. 1. 1. 1. 1. 1. 1. 1. 1. 1. 1. 1. 1. 1. 1. 1. 1. 1.\n",
            "  1. 1. 1. 1. 1. 1. 1. 1. 1. 1. 1. 1. 1. 1. 1. 1. 1. 1. 1. 1. 1. 1. 1. 1.\n",
            "  1. 1. 1. 1. 1. 1. 1. 1. 1. 1. 1. 1. 1. 1. 1. 1. 1. 1. 1. 1. 1. 1. 1. 1.\n",
            "  1. 1. 1. 1. 1. 1. 1. 1. 1. 1. 1. 1. 1. 1. 1. 1. 1. 1. 1. 1. 1. 1. 1. 1.\n",
            "  1. 1. 1. 1. 1. 1. 1. 1. 1. 1. 1. 1. 1. 1. 1. 1. 1. 1. 1. 1. 1. 1. 1. 1.\n",
            "  1. 1. 1. 1. 1. 1. 1. 1. 1. 1. 1. 1. 1. 1. 1. 1. 1. 1. 1. 1. 1. 1. 1. 1.\n",
            "  1. 1. 1. 1. 1. 1.]\n",
            " [1. 1. 1. 1. 1. 1. 1. 1. 1. 1. 1. 1. 1. 1. 1. 1. 1. 1. 1. 1. 1. 1. 1. 1.\n",
            "  1. 1. 1. 1. 1. 1. 1. 1. 1. 1. 1. 1. 1. 1. 1. 1. 1. 1. 1. 1. 1. 1. 1. 1.\n",
            "  1. 1. 1. 1. 1. 1. 1. 1. 1. 1. 1. 1. 1. 1. 1. 1. 1. 1. 1. 1. 1. 1. 1. 1.\n",
            "  1. 1. 1. 1. 1. 1. 1. 1. 1. 1. 1. 1. 1. 1. 1. 1. 1. 1. 1. 1. 1. 1. 1. 1.\n",
            "  1. 1. 1. 1. 1. 1. 1. 1. 1. 1. 1. 1. 1. 1. 1. 1. 1. 1. 1. 1. 1. 1. 1. 1.\n",
            "  1. 1. 1. 1. 1. 1. 1. 1. 1. 1. 1. 1. 1. 1. 1. 1. 1. 1. 1. 1. 1. 1. 1. 1.\n",
            "  1. 1. 1. 1. 1. 1.]]\n"
          ]
        }
      ]
    },
    {
      "cell_type": "code",
      "source": [
        "#7 Define the array\n",
        "x = np.array([[1, 2, 3], [4, 5, 6]])\n",
        "\n",
        "# Convert the array to [1 4 2 5 3 6]\n",
        "converted_x = x.T.flatten()\n",
        "print(\"Converted array:\\n\", converted_x)\n"
      ],
      "metadata": {
        "colab": {
          "base_uri": "https://localhost:8080/"
        },
        "id": "W92IrPHhb_Ma",
        "outputId": "438ae755-93a5-4b32-9acd-e23ef8263560"
      },
      "execution_count": 28,
      "outputs": [
        {
          "output_type": "stream",
          "name": "stdout",
          "text": [
            "Converted array:\n",
            " [1 4 2 5 3 6]\n"
          ]
        }
      ]
    },
    {
      "cell_type": "code",
      "source": [
        "#8 Define the array\n",
        "x = np.array([[1, 2, 3], [4, 5, 6]])\n",
        "# Calculate the determinant of X\n",
        "determinant_X = np.linalg.det(X)\n",
        "print(\"Determinant of X:\", determinant_X)"
      ],
      "metadata": {
        "colab": {
          "base_uri": "https://localhost:8080/"
        },
        "id": "LZlIFzaOZJGh",
        "outputId": "5648979a-6877-43ca-9f57-39eecc1402e9"
      },
      "execution_count": 29,
      "outputs": [
        {
          "output_type": "stream",
          "name": "stdout",
          "text": [
            "Determinant of X: -2.0000000000000004\n"
          ]
        }
      ]
    },
    {
      "cell_type": "code",
      "source": [
        "#9 Define the array A\n",
        "A = np.linspace(2, 16, 16).reshape(4, 4)\n",
        "# Return the sum along the diagonal of A\n",
        "sum_diagonal_A = np.trace(A)\n",
        "print(\"Sum along the diagonal of A:\", sum_diagonal_A)"
      ],
      "metadata": {
        "colab": {
          "base_uri": "https://localhost:8080/"
        },
        "id": "6Od8Jf0eZXZz",
        "outputId": "bce06823-ca8f-4bbb-f8c5-c43b25655baa"
      },
      "execution_count": 30,
      "outputs": [
        {
          "output_type": "stream",
          "name": "stdout",
          "text": [
            "Sum along the diagonal of A: 36.0\n"
          ]
        }
      ]
    },
    {
      "cell_type": "code",
      "source": [
        "#10 Define the array\n",
        "array_to_invert = np.array([[1., 2.], [3., 4.]])\n",
        "# Find the inverse of the array\n",
        "inverse_array = np.linalg.inv(array_to_invert)\n",
        "print(\"Inverse of the array:\\n\", inverse_array)"
      ],
      "metadata": {
        "id": "WQNfpcZzZqyT"
      },
      "execution_count": 16,
      "outputs": []
    },
    {
      "cell_type": "code",
      "source": [
        "#11 Define the vectors\n",
        "x = np.array([4, 5, 6, 13])\n",
        "y = np.array([5, 0, 6, 11])\n",
        "# Check which elements of x are greater than those of y\n",
        "greater_elements = x > y\n",
        "print(\"Elements of x greater than those of y:\", greater_elements)"
      ],
      "metadata": {
        "colab": {
          "base_uri": "https://localhost:8080/"
        },
        "id": "Ce2hYEHGZ0Nc",
        "outputId": "babd22fa-7922-4108-a6b0-d674e2390432"
      },
      "execution_count": 31,
      "outputs": [
        {
          "output_type": "stream",
          "name": "stdout",
          "text": [
            "Elements of x greater than those of y: [False  True False  True]\n"
          ]
        }
      ]
    }
  ]
}